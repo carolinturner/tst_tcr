{
 "cells": [
  {
   "cell_type": "code",
   "execution_count": null,
   "metadata": {},
   "outputs": [],
   "source": [
    "import itertools\n",
    "import numpy as np\n",
    "import pandas as pd\n",
    "import scipy.stats\n",
    "import pyrepseq as prs\n",
    "import pyrepseq.plotting as pp\n",
    "import matplotlib.pyplot as plt\n",
    "import seaborn as sns\n",
    "from statannotations.Annotator import Annotator\n",
    "import scipy.cluster.hierarchy as hc\n",
    "import tidytcells as tt\n",
    "import warnings\n",
    "\n",
    "from ipywidgets import IntProgress\n",
    "from IPython.display import display"
   ]
  },
  {
   "cell_type": "markdown",
   "metadata": {},
   "source": [
    "# Analysis of exact coincidences"
   ]
  },
  {
   "cell_type": "code",
   "execution_count": null,
   "metadata": {},
   "outputs": [],
   "source": [
    "# load metadata\n",
    "meta = pd.read_csv('data/TCRseq_metadata.csv')\n",
    "meta = meta[meta['tissue'].isin(['TST_D7','TST_D2','Blood'])]"
   ]
  },
  {
   "cell_type": "code",
   "execution_count": null,
   "metadata": {},
   "outputs": [],
   "source": [
    "# load data\n",
    "dfc_chains = {}\n",
    "\n",
    "dfc_chains['beta'] = pd.read_csv(f'data/combined_subsampled_beta.csv.gz')\n",
    "dfc_chains['alpha'] = pd.read_csv(f'data/combined_subsampled_alpha.csv.gz')"
   ]
  },
  {
   "cell_type": "code",
   "execution_count": null,
   "metadata": {},
   "outputs": [],
   "source": [
    "chains = sorted(meta['chain'].unique())\n",
    "meta_chains = {}\n",
    "for chain in chains:\n",
    "    meta_chain = meta[meta['chain']==chain]\n",
    "    meta_chains[chain] = meta_chain\n",
    "\n",
    "pc_by_sample_chains = {}\n",
    "for chain in chains:\n",
    "    pc_by_sample = dfc_chains[chain].groupby('sample')['bioidentity'].apply(prs.pc)\n",
    "    pc_by_sample.name = 'pc'\n",
    "    pc_by_sample = pd.merge(meta_chains[chain], pc_by_sample, on='sample')\n",
    "    pc_by_sample['logpc'] = np.log10(pc_by_sample['pc']+1e-7)\n",
    "    pc_by_sample_chains[chain] = pc_by_sample"
   ]
  },
  {
   "cell_type": "code",
   "execution_count": null,
   "metadata": {},
   "outputs": [],
   "source": [
    "df = pc_by_sample_chains[\"alpha\"]\n",
    "df.to_csv(f'data/pc_withindonor_alpha_down-sampled.csv')\n",
    "df1 = pc_by_sample_chains[\"beta\"]\n",
    "df1.to_csv(f'data/pc_withindonor_beta_down-sampled.csv')"
   ]
  },
  {
   "cell_type": "markdown",
   "metadata": {},
   "source": [
    "# Cross-sample coincidences"
   ]
  },
  {
   "cell_type": "code",
   "execution_count": null,
   "metadata": {},
   "outputs": [],
   "source": [
    "# remove duplicate nucleotide sequences per sample\n",
    "for chain in chains:\n",
    "    dfc_chains[chain] = dfc_chains[chain].drop_duplicates([f'sequence', 'sample'])"
   ]
  },
  {
   "cell_type": "code",
   "execution_count": null,
   "metadata": {},
   "outputs": [],
   "source": [
    "df = dfc_chains['beta']\n",
    "df.head()"
   ]
  },
  {
   "cell_type": "code",
   "execution_count": null,
   "metadata": {},
   "outputs": [],
   "source": [
    "df = dfc_chains['beta']\n",
    "\n",
    "f = IntProgress(min=0, max=len(chains)*len(df['tissue'].unique())) # instantiate the bar\n",
    "display(f) # display the bar\n",
    "\n",
    "pc_cross_chain = {}\n",
    "for chain in chains:\n",
    "    df = dfc_chains[chain]\n",
    "\n",
    "    df = df[df['sample'].isin(meta['sample'])]\n",
    "\n",
    "    pcs = []\n",
    "    for tissue in df['tissue'].unique():\n",
    "        pc = prs.pcDelta_grouped_cross(df[df['tissue']== tissue],\n",
    "                                  'sample', 'bioidentity', bins=0, condensed=True)\n",
    "        pc_nt = prs.pcDelta_grouped_cross(df[df['tissue']== tissue],\n",
    "                                  'sample', f'sequence', bins=0, condensed=True)\n",
    "        pc = pc - pc_nt\n",
    "        pc.reset_index(inplace=True)\n",
    "        pc['tissue'] = tissue\n",
    "        pcs.append(pc)\n",
    "        f.value += 1\n",
    "    pc_cross = pd.concat(pcs)\n",
    "    pc_cross['logpc'] = np.log10(1e-8+pc_cross[0])\n",
    "    pc_cross_chain[chain] = pc_cross"
   ]
  },
  {
   "cell_type": "code",
   "execution_count": null,
   "metadata": {},
   "outputs": [],
   "source": [
    "df = pc_cross_chain[\"alpha\"]\n",
    "df.to_csv(f'data/pc_crossdonor_alpha_down-sampled.csv')\n",
    "df1 = pc_cross_chain[\"beta\"]\n",
    "df1.to_csv(f'data/pc_crossdonor_beta_down-sampled.csv')"
   ]
  },
  {
   "cell_type": "markdown",
   "metadata": {},
   "source": [
    "# HLA dependence"
   ]
  },
  {
   "cell_type": "code",
   "execution_count": null,
   "metadata": {},
   "outputs": [],
   "source": [
    "chain = 'beta' # choose here from ('alpha','beta')\n",
    "mhc_class = 'II' # choose here from ('I','II','both')\n",
    "\n",
    "# load hla data\n",
    "hlas = pd.read_csv('data/hladata.csv', index_col=0)\n",
    "# filter MHC class\n",
    "if mhc_class == 'both':\n",
    "    pass\n",
    "elif mhc_class == 'I':\n",
    "    hlas = hlas[hlas.columns[~hlas.columns.str.startswith('D')]]\n",
    "elif mhc_class == 'II':\n",
    "    hlas = hlas[hlas.columns[hlas.columns.str.startswith('D')]]\n",
    "else:\n",
    "    raise NotImplementedError(\"mhc_class needs to be in ['both', 'I', 'II']\")\n",
    "\n",
    "hladists = {}\n",
    "pcs = {}\n",
    "\n",
    "for tissue in ['TST_D7', 'TST_D2', 'Blood']:\n",
    "\n",
    "\n",
    "    df = dfc_chains[chain]\n",
    "    df = df[df['tissue']== tissue]\n",
    "    df['ntidentity'] = df['bioidentity'] + df['sequence']\n",
    "    pc = prs.pcDelta_grouped_cross(df, 'UIN', 'bioidentity', bins=0, condensed=False)\n",
    "    pc_nt = prs.pcDelta_grouped_cross(df, 'UIN', 'ntidentity', bins=0, condensed=False)\n",
    "    pc = pc - pc_nt\n",
    "    \n",
    "    sample_ids = pc.index\n",
    "    joined_ids = list(set(hlas.index).intersection(sample_ids))\n",
    "    print(set(sample_ids)-set(hlas.index))\n",
    "    print(len(joined_ids), len(hlas.index), len(sample_ids))\n",
    "    pc_joined = pc.loc[joined_ids][joined_ids]\n",
    "    hlas_joined = hlas.loc[joined_ids]\n",
    "    \n",
    "    metric = prs.overlap\n",
    "    hladist_condensed = prs.pdist(hlas_joined.to_numpy(),\n",
    "                                  metric=metric, dtype=np.float64)\n",
    "    dfhladist = pd.DataFrame(prs.squareform(hladist_condensed),\n",
    "                             columns=hlas_joined.index, index=hlas_joined.index)\n",
    "    \n",
    "    hla_flat = prs.squareform(dfhladist)\n",
    "    np.fill_diagonal(pc_joined.values, 0)\n",
    "    pc_flat = prs.squareform(pc_joined)\n",
    "    hladists[tissue] = hla_flat\n",
    "    pcs[tissue] = pc_flat\n",
    "    \n",
    "    file = pd.DataFrame(hladists[tissue])\n",
    "    file.to_csv(f'data/hladist_{tissue}_{chain}_down-sampled_mhc{mhc_class}.csv')\n",
    "    file1 = pd.DataFrame(pcs[tissue])\n",
    "    file1.to_csv(f'data/tcrsharingprob_{tissue}_{chain}_down-sampled_mhc{mhc_class}.csv')"
   ]
  },
  {
   "cell_type": "code",
   "execution_count": null,
   "metadata": {},
   "outputs": [],
   "source": []
  }
 ],
 "metadata": {
  "kernelspec": {
   "display_name": "Python 3 (ipykernel)",
   "language": "python",
   "name": "python3"
  },
  "language_info": {
   "codemirror_mode": {
    "name": "ipython",
    "version": 3
   },
   "file_extension": ".py",
   "mimetype": "text/x-python",
   "name": "python",
   "nbconvert_exporter": "python",
   "pygments_lexer": "ipython3",
   "version": "3.10.4"
  }
 },
 "nbformat": 4,
 "nbformat_minor": 5
}
