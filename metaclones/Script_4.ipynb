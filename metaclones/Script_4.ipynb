{
 "cells": [
  {
   "cell_type": "code",
   "execution_count": null,
   "metadata": {},
   "outputs": [],
   "source": [
    "import os\n",
    "\n",
    "import numpy as np\n",
    "import pandas as pd\n",
    "import matplotlib.pyplot as plt\n",
    "\n",
    "import warnings\n",
    "\n",
    "plt.style.use('seaborn-v0_8-paper')"
   ]
  },
  {
   "cell_type": "code",
   "execution_count": null,
   "metadata": {},
   "outputs": [],
   "source": [
    "folder_path = \"results/\"\n",
    "\n",
    "dfs = []\n",
    "\n",
    "for file in os.listdir(folder_path):\n",
    "    file_path = os.path.join(folder_path, file)\n",
    "    df = pd.read_csv(file_path, index_col=0, encoding='latin1')\n",
    "    df = df.T\n",
    "    df['filename'] = file \n",
    "    dfs.append(df)\n",
    "\n",
    "stats_df = pd.concat(dfs, ignore_index=False)\n",
    "stats_df.set_index('filename', inplace=True)\n",
    "stats_df"
   ]
  },
  {
   "cell_type": "code",
   "execution_count": null,
   "metadata": {},
   "outputs": [],
   "source": [
    "stats_df = stats_df.dropna(axis=1, how='all')\n",
    "stats_df"
   ]
  },
  {
   "cell_type": "code",
   "execution_count": null,
   "metadata": {},
   "outputs": [],
   "source": [
    "stats_df.to_csv('data/parameter_sweep.csv')"
   ]
  },
  {
   "cell_type": "code",
   "execution_count": null,
   "metadata": {},
   "outputs": [],
   "source": [
    "# Filter the stats_df to only chain='beta' and clustering='leiden'\n",
    "# Make 9 subplots:\n",
    "# Row 1 should have stats_df filtered to mincount=2, row 2 to mincount=5 and row 3 to mincount=10\n",
    "# Within each row the subplots:\n",
    "# 1: Title: HLA metaclones. Plot max_tcrdist on x, nmetaclones in blue and nmetaclones_shuffled in orange.\n",
    "# 2: Title: Propotion participants. Plot max_tcrdist on x, id_fraction in blue and id_fraction_shuffled in orange.\n",
    "# 3: Title: Proportion TCRs. Plot max_tcrdist on x, sig_clonotype_fraction in blue and sig_clonotype_fraction_shuffled in orange."
   ]
  },
  {
   "cell_type": "code",
   "execution_count": null,
   "metadata": {},
   "outputs": [],
   "source": [
    "columns_to_convert = ['max_tcrdist', 'mincount', 'nmetaclones', 'nmetaclones_shuffled', \n",
    "                      'id_fraction', 'id_fraction_shuffled', \n",
    "                      'sig_clonotype_fraction', 'sig_clonotype_fraction_shuffled']\n",
    "\n",
    "\n",
    "for col in columns_to_convert:\n",
    "    stats_df[col] = pd.to_numeric(stats_df[col], errors='coerce')"
   ]
  },
  {
   "cell_type": "code",
   "execution_count": null,
   "metadata": {},
   "outputs": [],
   "source": [
    "filtered_df = stats_df[(stats_df['chain'] == 'beta') & \n",
    "                        (stats_df['clustering'] == 'leiden')]\n",
    "\n",
    "\n",
    "mincount_values = [2, 5, 10]\n",
    "\n",
    "fig, axes = plt.subplots(nrows=3, ncols=3, figsize=(15, 15))\n",
    "fig.subplots_adjust(hspace=0.5, wspace=0.3)\n",
    "\n",
    "for i, mincount in enumerate(mincount_values):\n",
    "\n",
    "    mincount_df = filtered_df[filtered_df['mincount'] == mincount].sort_values(by='max_tcrdist')\n",
    "\n",
    "    # Subplot 1: HLA metaclones\n",
    "    ax1 = axes[i, 0]\n",
    "    ax1.plot(mincount_df['max_tcrdist'], mincount_df['nmetaclones'], label='true', color='blue', marker='o')\n",
    "    ax1.plot(mincount_df['max_tcrdist'], mincount_df['nmetaclones_shuffled'], label='shuffled', color='orange', marker='o')\n",
    "    ax1.set_title('HLA metaclones')\n",
    "    ax1.set_xlabel('max_tcrdist')\n",
    "    ax1.set_ylabel('Count')\n",
    "    ax1.legend()\n",
    "\n",
    "    # Subplot 2: proportion participants\n",
    "    ax2 = axes[i, 1]\n",
    "    ax2.plot(mincount_df['max_tcrdist'], mincount_df['id_fraction'], label='true', color='blue', marker='o')\n",
    "    ax2.plot(mincount_df['max_tcrdist'], mincount_df['id_fraction_shuffled'], label='shuffled', color='orange', marker='o')\n",
    "    ax2.set_title('proportion participants')\n",
    "    ax2.set_xlabel('max_tcrdist')\n",
    "    ax2.set_ylabel('Fraction')\n",
    "    ax2.legend()\n",
    "\n",
    "    # Subplot 3: proportion TCRs\n",
    "    ax3 = axes[i, 2]\n",
    "    ax3.plot(mincount_df['max_tcrdist'], mincount_df['sig_clonotype_fraction'], label='true', color='blue', marker='o')\n",
    "    ax3.plot(mincount_df['max_tcrdist'], mincount_df['sig_clonotype_fraction_shuffled'], label='shuffled', color='orange', marker='o')\n",
    "    ax3.set_title('proportion TCRs')\n",
    "    ax3.set_xlabel('max_tcrdist')\n",
    "    ax3.set_ylabel('Fraction')\n",
    "    ax3.legend()\n",
    "\n",
    "\n",
    "for i, mincount in enumerate(mincount_values):\n",
    "    fig.text(0.04, 0.78 - (i * 0.30), f'mincount={mincount}', va='center', ha='center', rotation='vertical', fontsize=12)\n",
    "\n",
    "plt.savefig(\"data/parameters_beta_leiden.png\", dpi=300, bbox_inches='tight')\n",
    "plt.show()"
   ]
  },
  {
   "cell_type": "code",
   "execution_count": null,
   "metadata": {},
   "outputs": [],
   "source": []
  }
 ],
 "metadata": {
  "kernelspec": {
   "display_name": "Python 3 (ipykernel)",
   "language": "python",
   "name": "python3"
  },
  "language_info": {
   "codemirror_mode": {
    "name": "ipython",
    "version": 3
   },
   "file_extension": ".py",
   "mimetype": "text/x-python",
   "name": "python",
   "nbconvert_exporter": "python",
   "pygments_lexer": "ipython3",
   "version": "3.10.4"
  }
 },
 "nbformat": 4,
 "nbformat_minor": 5
}
